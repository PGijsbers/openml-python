{
  "cells": [
    {
      "cell_type": "code",
      "execution_count": null,
      "metadata": {
        "collapsed": false
      },
      "outputs": [],
      "source": [
        "%matplotlib inline"
      ]
    },
    {
      "cell_type": "markdown",
      "metadata": {},
      "source": [
        "\n# Flows and Runs\n\nA simple tutorial on how to train/run a model and how to upload the results.\n"
      ]
    },
    {
      "cell_type": "code",
      "execution_count": null,
      "metadata": {
        "collapsed": false
      },
      "outputs": [],
      "source": [
        "# License: BSD 3-Clause\n\nimport openml\nfrom sklearn import ensemble, neighbors"
      ]
    },
    {
      "cell_type": "markdown",
      "metadata": {},
      "source": [
        "# Train a machine learning model\n\n<div class=\"alert alert-danger\"><h4>Warning</h4><p>This example uploads data. For that reason, this example\n  connects to the test server at test.openml.org. This prevents the main\n  server from crowding with example datasets, tasks, runs, and so on.</p></div>\n\n"
      ]
    },
    {
      "cell_type": "code",
      "execution_count": null,
      "metadata": {
        "collapsed": false
      },
      "outputs": [],
      "source": [
        "openml.config.start_using_configuration_for_example()\n\n# NOTE: We are using dataset 20 from the test server: https://test.openml.org/d/20\ndataset = openml.datasets.get_dataset(20)\nX, y, categorical_indicator, attribute_names = dataset.get_data(\n    dataset_format=\"array\", target=dataset.default_target_attribute\n)\nclf = neighbors.KNeighborsClassifier(n_neighbors=3)\nclf.fit(X, y)"
      ]
    },
    {
      "cell_type": "markdown",
      "metadata": {},
      "source": [
        "# Running a model on a task\n\n"
      ]
    },
    {
      "cell_type": "code",
      "execution_count": null,
      "metadata": {
        "collapsed": false
      },
      "outputs": [],
      "source": [
        "task = openml.tasks.get_task(119)\nclf = ensemble.RandomForestClassifier()\nrun = openml.runs.run_model_on_task(clf, task)\nprint(run)"
      ]
    },
    {
      "cell_type": "markdown",
      "metadata": {},
      "source": [
        "# Publishing the run\n\n"
      ]
    },
    {
      "cell_type": "code",
      "execution_count": null,
      "metadata": {
        "collapsed": false
      },
      "outputs": [],
      "source": [
        "myrun = run.publish()\nprint(\"Run was uploaded to http://test.openml.org/r/\" + str(myrun.run_id))\nprint(\"The flow can be found at http://test.openml.org/f/\" + str(myrun.flow_id))"
      ]
    },
    {
      "cell_type": "code",
      "execution_count": null,
      "metadata": {
        "collapsed": false
      },
      "outputs": [],
      "source": [
        "openml.config.stop_using_configuration_for_example()"
      ]
    }
  ],
  "metadata": {
    "kernelspec": {
      "display_name": "Python 3",
      "language": "python",
      "name": "python3"
    },
    "language_info": {
      "codemirror_mode": {
        "name": "ipython",
        "version": 3
      },
      "file_extension": ".py",
      "mimetype": "text/x-python",
      "name": "python",
      "nbconvert_exporter": "python",
      "pygments_lexer": "ipython3",
      "version": "3.8.8"
    }
  },
  "nbformat": 4,
  "nbformat_minor": 0
}